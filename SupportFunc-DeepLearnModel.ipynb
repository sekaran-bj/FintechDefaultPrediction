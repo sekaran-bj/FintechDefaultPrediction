{
 "cells": [
  {
   "cell_type": "code",
   "execution_count": 1,
   "metadata": {
    "collapsed": false
   },
   "outputs": [
    {
     "name": "stderr",
     "output_type": "stream",
     "text": [
      "Using TensorFlow backend.\n"
     ]
    }
   ],
   "source": [
    "#--------------------------------------------------------------------------------\n",
    "# This Model builds a Sequential Deep Learning Model for Default Prediction problem\n",
    "#--------------------------------------------------------------------------------\n",
    "\n",
    "# Load Required Libraries\n",
    "%matplotlib inline \n",
    "import matplotlib.pyplot as plt\n",
    "import pandas as pd \n",
    "import numpy as np \n",
    "\n",
    "# Algorithm Models to import\n",
    "from sklearn.model_selection import train_test_split\n",
    "#from sklearn.linear_model import LogisticRegression\n",
    "#from sklearn.ensemble import RandomForestClassifier\n",
    "\n",
    "# All performance Metrics\n",
    "from sklearn.metrics import roc_auc_score,roc_curve\n",
    "from sklearn.metrics import accuracy_score\n",
    "from sklearn.metrics import recall_score\n",
    "from sklearn.metrics import precision_score\n",
    "from sklearn.metrics import f1_score\n",
    "from sklearn.metrics import average_precision_score\n",
    "from sklearn.metrics import precision_recall_curve\n",
    "\n",
    "from keras.models import Sequential\n",
    "from keras.layers import Dense,Activation,Layer,Lambda\n",
    "import numpy\n",
    "\n",
    "# fix random seed for reproducibility\n",
    "numpy.random.seed(42)\n",
    "\n",
    "\n",
    "\n"
   ]
  },
  {
   "cell_type": "code",
   "execution_count": 2,
   "metadata": {
    "collapsed": true
   },
   "outputs": [],
   "source": [
    "# Plotting Sub-function to display Training and Testing Set Accuracy\n",
    "\n",
    "def Plot_Precision_Recall_Curve(precision, recall,averagePrecision):\n",
    "    plt.clf()\n",
    "    plt.step(recall, precision, color='b', alpha=0.2,\n",
    "         where='post')\n",
    "    plt.fill_between(recall, precision, step='post', alpha=0.2,\n",
    "                 color='b')\n",
    "    plt.xlabel('Recall')\n",
    "    plt.ylabel('Precision')\n",
    "    plt.ylim([0.0, 1.05])\n",
    "    plt.xlim([0.0, 1.0])\n",
    "    plt.title('2-class Precision-Recall curve: AP={0:0.2f}'.format(\n",
    "          averagePrecision))\n",
    "    plt.show()\n",
    "\n",
    "def plot_TrainTestAccuracy(xs, train_accuracy_list, dev_accuracy_list):\n",
    "    plt.clf()\n",
    "    plt.plot(xs, train_accuracy_list, label='train')\n",
    "    plt.plot(xs, dev_accuracy_list, label='dev')\n",
    "    plt.xlabel('Tuning Parameter')\n",
    "    plt.ylabel('Accuracy')\n",
    "    plt.legend()\n",
    "    plt.show()\n",
    "\n",
    "def plot_PrecisionRecall(xs, dev_precision_list, dev_recall_list):\n",
    "    plt.clf()\n",
    "    plt.plot(xs, dev_precision_list, label='Precision')\n",
    "    plt.plot(xs, dev_recall_list, label='recall')\n",
    "    plt.ylabel('Precision and Recall')\n",
    "    plt.xlabel(' Tuning Parameter')\n",
    "    plt.legend()\n",
    "    plt.show() \n",
    "\n",
    "def plot_AUCROCCurve(fpr,tpr,AUC):\n",
    "    plt.clf()\n",
    "    lw = 2\n",
    "    plt.plot(fpr, tpr, color='darkorange',lw=lw, label='ROC curve')\n",
    "    plt.plot([0, 1], [0, 1], color='navy', lw=lw, linestyle='--')\n",
    "    plt.xlim([0.0, 1.0])\n",
    "    plt.ylim([0.0, 1.05])\n",
    "    plt.xlabel('False Positive Rate')\n",
    "    plt.ylabel('True Positive Rate')\n",
    "    plt.title('Receiver operating characteristic' + str(AUC))\n",
    "    plt.legend(loc=\"lower right\")\n",
    "    plt.show()    \n",
    "\n",
    "def plot_kscurve(fpr,tpr):    \n",
    "    plt.clf()    \n",
    "    plt.plot([0,1,2,3,4,5,6,7,8,9,10],np.percentile(tpr,[0,10,20,30,40,50,60,70,80,90,100]),color = 'r')\n",
    "    plt.plot([0,1,2,3,4,5,6,7,8,9,10],np.percentile(fpr,[0,10,20,30,40,50,60,70,80,90,100]), color='navy', linestyle='--')\n",
    "    plt.title('KS='+str(np.max(tpr - fpr)))\n",
    "    plt.xlabel('quantile')\n",
    "    plt.ylabel('FPR or TPR')\n",
    "    plt.legend(('TPR','FPR'))\n",
    "    plt.grid()    \n",
    "    \n",
    "# Get Error Type\n",
    "def get_error_type(pred, label):\n",
    "    # return the type of error: tp,fp,tn,fn\n",
    "    if pred == label:\n",
    "        return \"tp\" if pred == 1 else \"tn\"\n",
    "    return \"fp\" if pred == 1 else \"fn\"    \n",
    "\n",
    "# Custom function to get confusion Matrix     \n",
    "def get_custom_confusionMatrix(predicted, truelabel):\n",
    "    confusion_mat = np.zeros((2, 2))\n",
    "    \n",
    "    for k in range(0,len(predicted)):\n",
    "        val = get_error_type(predicted[k], truelabel[k])\n",
    "        if val == \"tp\":     \n",
    "            confusion_mat[0][0] = confusion_mat[0][0] + 1\n",
    "        elif val == \"fp\":     \n",
    "            confusion_mat[0][1] = confusion_mat[0][1] + 1\n",
    "        elif val == \"fn\":         \n",
    "            confusion_mat[1][0] = confusion_mat[1][0] + 1\n",
    "        else:\n",
    "            confusion_mat[1][1] = confusion_mat[1][1] + 1\n",
    "            \n",
    "    return(confusion_mat)             "
   ]
  },
  {
   "cell_type": "code",
   "execution_count": 3,
   "metadata": {
    "collapsed": false
   },
   "outputs": [
    {
     "name": "stdout",
     "output_type": "stream",
     "text": [
      "All data Retrieved\n",
      "(129535, 38)\n",
      "(129535,)\n",
      "(224462, 38)\n",
      "(224462,)\n"
     ]
    }
   ],
   "source": [
    "# Load All data Variables\n",
    "import pickle\n",
    "\n",
    "# Saving the objects:\n",
    "with open('FinalAllVariablesIncl.pkl','rb') as f:  \n",
    "    train_x,train_y,test_x,test_y,train_xnew,train_ynew,train_x1,train_y1 = pickle.load(f)\n",
    "print('All data Retrieved')\n",
    "\n",
    "print(train_x.shape)\n",
    "print(train_y.shape)\n",
    "print(train_x1.shape)\n",
    "print(train_y1.shape)\n",
    "\n"
   ]
  },
  {
   "cell_type": "code",
   "execution_count": 5,
   "metadata": {
    "collapsed": true
   },
   "outputs": [],
   "source": [
    "def getModel2(arr):\n",
    "    model=Sequential()\n",
    "    for i in range(len(arr)):\n",
    "        if i!=0 and i!=len(arr)-1:\n",
    "            if i==1:\n",
    "                model.add(Dense(arr[i],input_dim=arr[0],kernel_initializer='uniform', activation='relu'))\n",
    "            else:\n",
    "                model.add(Dense(arr[i],activation='relu'))\n",
    "    model.add(Dense(arr[-1],kernel_initializer='uniform',activation=\"sigmoid\"))\n",
    "    model.compile(loss=\"binary_crossentropy\",optimizer='adam',metrics=['accuracy'])\n",
    "    return model"
   ]
  },
  {
   "cell_type": "code",
   "execution_count": 6,
   "metadata": {
    "collapsed": true
   },
   "outputs": [],
   "source": [
    "import keras\n",
    "import matplotlib.pyplot as plt\n",
    "from IPython.display import clear_output\n",
    "class PlotLosses(keras.callbacks.Callback):\n",
    "    def on_train_begin(self, logs={}):\n",
    "        self.i = 0\n",
    "        self.x = []\n",
    "        self.losses = []\n",
    "        self.val_losses = []\n",
    "        \n",
    "        self.fig = plt.figure()\n",
    "        \n",
    "        self.logs = []\n",
    "\n",
    "    def on_epoch_end(self, epoch, logs={}):\n",
    "        \n",
    "        self.logs.append(logs)\n",
    "        self.x.append(self.i)\n",
    "        self.losses.append(logs.get('loss'))\n",
    "        self.val_losses.append(logs.get('val_loss'))\n",
    "        self.i += 1\n",
    "        \n",
    "        clear_output(wait=True)\n",
    "        plt.plot(self.x, self.losses, label=\"loss\")\n",
    "        plt.legend()\n",
    "        plt.show();\n",
    "        \n",
    "plot_losses = PlotLosses()"
   ]
  },
  {
   "cell_type": "code",
   "execution_count": 8,
   "metadata": {
    "collapsed": false
   },
   "outputs": [
    {
     "data": {
      "image/png": "[encoded data removed]",
      "text/plain": [
       "<Figure size 432x288 with 1 Axes>"
      ]
     },
     "metadata": {},
     "output_type": "display_data"
    },
    {
     "name": "stdout",
     "output_type": "stream",
     "text": [
      "129535/129535 [==============================] - 2s 14us/step\n",
      "Loss: 0.5348417571125015\n",
      "Accuracy 73.0945304352834\n",
      "[[ 5339.  3245.]\n",
      " [ 6477. 17323.]]\n",
      "tp: 5339 , fp: 3245 , fn: 6477 , tn: 17323\n"
     ]
    }
   ],
   "source": [
    "firstModel=getModel2([38,120,1])\n",
    "firstModel.fit(train_x1, train_y1.ravel(),epochs=500,callbacks=[plot_losses])\n",
    "\n",
    "scores=firstModel.evaluate(train_x,train_y)\n",
    "print(\"Loss:\",scores[0])\n",
    "print(\"Accuracy\",scores[1]*100)\n",
    "\n",
    "predY=firstModel.predict(test_x)\n",
    "predY=np.round(predY).astype(int).reshape(1,-1)[0]\n",
    "\n",
    "# Print Confusion Matrix for Performance Analysis\n",
    "cfmatrix = get_custom_confusionMatrix(predY,test_y.ravel())\n",
    "print(cfmatrix)\n",
    "print(\"tp:\", int(cfmatrix[0][0]), \", fp:\", int(cfmatrix[0][1]),\", fn:\", int(cfmatrix[1][0]),\", tn:\", int(cfmatrix[1][1]))"
   ]
  },
  {
   "cell_type": "code",
   "execution_count": 10,
   "metadata": {
    "collapsed": false
   },
   "outputs": [
    {
     "data": {
      "image/png": "[encoded data removed]",
      "text/plain": [
       "<Figure size 432x288 with 1 Axes>"
      ]
     },
     "metadata": {},
     "output_type": "display_data"
    },
    {
     "data": {
      "image/png": "[encoded data removed]",
      "text/plain": [
       "<Figure size 432x288 with 1 Axes>"
      ]
     },
     "metadata": {},
     "output_type": "display_data"
    }
   ],
   "source": [
    "from matplotlib import pyplot\n",
    "\n",
    "# plot metrics\n",
    "pyplot.plot(history.history['acc'])\n",
    "pyplot.show()\n",
    "\n",
    "pyplot.plot(history.history['binary_accuracy'])\n",
    "pyplot.show()"
   ]
  },
  {
   "cell_type": "code",
   "execution_count": 11,
   "metadata": {
    "collapsed": false
   },
   "outputs": [
    {
     "name": "stdout",
     "output_type": "stream",
     "text": [
      "[0.5854362978696703, 0.704087698307778, 0.704087698307778]\n"
     ]
    }
   ],
   "source": [
    "print(scores)"
   ]
  },
  {
   "cell_type": "code",
   "execution_count": null,
   "metadata": {
    "collapsed": true
   },
   "outputs": [],
   "source": []
  }
 ],
 "metadata": {
  "kernelspec": {
   "display_name": "Python 3",
   "language": "python",
   "name": "python3"
  },
  "language_info": {
   "codemirror_mode": {
    "name": "ipython",
    "version": 3
   },
   "file_extension": ".py",
   "mimetype": "text/x-python",
   "name": "python",
   "nbconvert_exporter": "python",
   "pygments_lexer": "ipython3",
   "version": "3.6.6"
  }
 },
 "nbformat": 4,
 "nbformat_minor": 2
}
