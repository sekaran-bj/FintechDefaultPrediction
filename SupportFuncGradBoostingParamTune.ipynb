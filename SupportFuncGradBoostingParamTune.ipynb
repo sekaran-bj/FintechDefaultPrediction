{
 "cells": [
  {
   "cell_type": "code",
   "execution_count": 1,
   "metadata": {
    "collapsed": false
   },
   "outputs": [
    {
     "name": "stderr",
     "output_type": "stream",
     "text": [
      "C:\\Users\\bchandrasekaran\\AppData\\Local\\Continuum\\Anaconda3\\lib\\site-packages\\sklearn\\ensemble\\weight_boosting.py:29: DeprecationWarning: numpy.core.umath_tests is an internal NumPy module and should not be imported. It will be removed in a future NumPy release.\n",
      "  from numpy.core.umath_tests import inner1d\n"
     ]
    }
   ],
   "source": [
    "#-----------------------------------------------------------------------------------------\n",
    "# This code is used for Fine Tuning Parameters for Gradient Boosting Classifer Algorithm\n",
    "#------------------------------------------------------------------------------------------\n",
    "\n",
    "# Load Required Libraries\n",
    "%matplotlib inline \n",
    "import matplotlib.pyplot as plt\n",
    "import pandas as pd \n",
    "import numpy as np \n",
    "\n",
    "import seaborn as sns   # Heatmap plot\n",
    "from sklearn.preprocessing import LabelEncoder\n",
    "from sklearn.preprocessing import OneHotEncoder\n",
    "\n",
    "# Algorithm Models to import\n",
    "from sklearn.model_selection import train_test_split\n",
    "from sklearn.linear_model import LogisticRegression\n",
    "from sklearn.ensemble import RandomForestClassifier\n",
    "from sklearn.svm import SVC\n",
    "\n",
    "# All performance Metrics\n",
    "from sklearn.metrics import roc_auc_score,roc_curve\n",
    "from sklearn.metrics import accuracy_score\n",
    "from sklearn.metrics import recall_score\n",
    "from sklearn.metrics import precision_score\n",
    "from sklearn.metrics import f1_score\n",
    "from sklearn.metrics import average_precision_score\n",
    "from sklearn.metrics import precision_recall_curve"
   ]
  },
  {
   "cell_type": "code",
   "execution_count": 2,
   "metadata": {
    "collapsed": true
   },
   "outputs": [],
   "source": [
    "# Plotting Sub-function to display Training and Testing Set Accuracy\n",
    "\n",
    "def Plot_Precision_Recall_Curve(precision, recall,averagePrecision):\n",
    "    plt.clf()\n",
    "    plt.step(recall, precision, color='b', alpha=0.2,\n",
    "         where='post')\n",
    "    plt.fill_between(recall, precision, step='post', alpha=0.2,\n",
    "                 color='b')\n",
    "    plt.xlabel('Recall')\n",
    "    plt.ylabel('Precision')\n",
    "    plt.ylim([0.0, 1.05])\n",
    "    plt.xlim([0.0, 1.0])\n",
    "    plt.title('2-class Precision-Recall curve: AP={0:0.2f}'.format(\n",
    "          averagePrecision))\n",
    "    plt.show()\n",
    "\n",
    "def plot_TrainTestAccuracy(xs, train_accuracy_list, dev_accuracy_list):\n",
    "    plt.clf()\n",
    "    plt.plot(xs, train_accuracy_list, label='train')\n",
    "    plt.plot(xs, dev_accuracy_list, label='dev')\n",
    "    plt.xlabel('Tuning Parameter')\n",
    "    plt.ylabel('Accuracy')\n",
    "    plt.legend()\n",
    "    plt.show()\n",
    "\n",
    "def plot_PrecisionRecall(xs, dev_precision_list, dev_recall_list):\n",
    "    plt.clf()\n",
    "    plt.plot(xs, dev_precision_list, label='Precision')\n",
    "    plt.plot(xs, dev_recall_list, label='recall')\n",
    "    plt.ylabel('Precision and Recall')\n",
    "    plt.xlabel(' Tuning Parameter')\n",
    "    plt.legend()\n",
    "    plt.show() \n",
    "\n",
    "def plot_AUCROCCurve(fpr,tpr,AUC):\n",
    "    plt.clf()\n",
    "    lw = 2\n",
    "    plt.plot(fpr, tpr, color='darkorange',lw=lw, label='ROC curve')\n",
    "    plt.plot([0, 1], [0, 1], color='navy', lw=lw, linestyle='--')\n",
    "    plt.xlim([0.0, 1.0])\n",
    "    plt.ylim([0.0, 1.05])\n",
    "    plt.xlabel('False Positive Rate')\n",
    "    plt.ylabel('True Positive Rate')\n",
    "    plt.title('Receiver operating characteristic' + str(AUC))\n",
    "    plt.legend(loc=\"lower right\")\n",
    "    plt.show()    \n",
    "\n",
    "def plot_kscurve(fpr,tpr):    \n",
    "    plt.clf()    \n",
    "    plt.plot([0,1,2,3,4,5,6,7,8,9,10],np.percentile(tpr,[0,10,20,30,40,50,60,70,80,90,100]),color = 'r')\n",
    "    plt.plot([0,1,2,3,4,5,6,7,8,9,10],np.percentile(fpr,[0,10,20,30,40,50,60,70,80,90,100]), color='navy', linestyle='--')\n",
    "    plt.title('KS='+str(np.max(tpr - fpr)))\n",
    "    plt.xlabel('quantile')\n",
    "    plt.ylabel('FPR or TPR')\n",
    "    plt.legend(('TPR','FPR'))\n",
    "    plt.grid()    \n",
    "    \n",
    "# Get Error Type\n",
    "def get_error_type(pred, label):\n",
    "    # return the type of error: tp,fp,tn,fn\n",
    "    if pred == label:\n",
    "        return \"tp\" if pred == 1 else \"tn\"\n",
    "    return \"fp\" if pred == 1 else \"fn\"    \n",
    "\n",
    "# Custom function to get confusion Matrix     \n",
    "def get_custom_confusionMatrix(predicted, truelabel):\n",
    "    confusion_mat = np.zeros((2, 2))\n",
    "    \n",
    "    for k in range(0,len(predicted)):\n",
    "        val = get_error_type(predicted[k], truelabel[k])\n",
    "        if val == \"tp\":     \n",
    "            confusion_mat[0][0] = confusion_mat[0][0] + 1\n",
    "        elif val == \"fp\":     \n",
    "            confusion_mat[0][1] = confusion_mat[0][1] + 1\n",
    "        elif val == \"fn\":         \n",
    "            confusion_mat[1][0] = confusion_mat[1][0] + 1\n",
    "        else:\n",
    "            confusion_mat[1][1] = confusion_mat[1][1] + 1\n",
    "            \n",
    "    return(confusion_mat)             "
   ]
  },
  {
   "cell_type": "code",
   "execution_count": 3,
   "metadata": {
    "collapsed": false
   },
   "outputs": [
    {
     "name": "stderr",
     "output_type": "stream",
     "text": [
      "C:\\Users\\bchandrasekaran\\AppData\\Local\\Continuum\\Anaconda3\\lib\\site-packages\\sklearn\\cross_validation.py:41: DeprecationWarning: This module was deprecated in version 0.18 in favor of the model_selection module into which all the refactored classes and functions are moved. Also note that the interface of the new CV iterators are different from that of this module. This module will be removed in 0.20.\n",
      "  \"This module will be removed in 0.20.\", DeprecationWarning)\n",
      "C:\\Users\\bchandrasekaran\\AppData\\Local\\Continuum\\Anaconda3\\lib\\site-packages\\sklearn\\grid_search.py:42: DeprecationWarning: This module was deprecated in version 0.18 in favor of the model_selection module into which all the refactored classes and functions are moved. This module will be removed in 0.20.\n",
      "  DeprecationWarning)\n"
     ]
    }
   ],
   "source": [
    "from sklearn.ensemble import GradientBoostingClassifier  #GBM algorithm\n",
    "from sklearn import cross_validation, metrics   #Additional scklearn functions\n",
    "from sklearn.grid_search import GridSearchCV   #Perforing grid search\n",
    "\n",
    "def modelfit(alg, dtrain, dtarget, predictors, performCV=True, printFeatureImportance=True, cv_folds=5):\n",
    "    \n",
    "    #Fit the algorithm on the data\n",
    "    alg.fit(dtrain, dtarget)\n",
    "        \n",
    "    #Predict training set:\n",
    "    dtrain_predictions = alg.predict(dtrain)\n",
    "    dtrain_predprob = alg.predict_proba(dtrain)[:,1]\n",
    "    \n",
    "    #Perform cross-validation:\n",
    "    if performCV:\n",
    "        cv_score = cross_validation.cross_val_score(alg, dtrain, dtarget, cv=cv_folds, scoring='roc_auc')\n",
    "    \n",
    "    #Print model report:\n",
    "    print(\"\\nModel Report\")\n",
    "    print(\"Accuracy : %.4g\" % metrics.accuracy_score(dtarget, dtrain_predictions))\n",
    "    print(\"AUC Score (Train): %f\" % metrics.roc_auc_score(dtarget, dtrain_predprob))\n",
    "    \n",
    "    if performCV:\n",
    "        print(\"CV Score : Mean - %.7g | Std - %.7g | Min - %.7g | Max - %.7g\" %(np.mean(cv_score),np.std(cv_score),np.min(cv_score),np.max(cv_score)))\n",
    "        \n",
    "    #Print Feature Importance:\n",
    "    feat_imp = pd.Series(alg.feature_importances_, predictors).sort_values(ascending=False)\n",
    "    feat_imp.plot(kind='bar', title='Feature Importances')\n",
    "    plt.ylabel('Feature Importance Score')"
   ]
  },
  {
   "cell_type": "code",
   "execution_count": null,
   "metadata": {
    "collapsed": true
   },
   "outputs": [],
   "source": [
    "# Read Cleaned Up dataset\n",
    "rawdataset = pd.read_csv('dataset2\\dataset.csv')"
   ]
  },
  {
   "cell_type": "code",
   "execution_count": null,
   "metadata": {
    "collapsed": true
   },
   "outputs": [],
   "source": [
    "# Retraining dataset with \"Current\" and \"Late 16-30 days\" as loan status\n",
    "retrainingdataset = pd.DataFrame(rawdataset)\n",
    "rawdataset = pd.DataFrame(rawdataset)\n",
    "\n",
    "retrainingdataset = retrainingdataset[retrainingdataset.loan_status != 'Charged Off']\n",
    "retrainingdataset = retrainingdataset[retrainingdataset.loan_status != 'Default']\n",
    "retrainingdataset = retrainingdataset[retrainingdataset.loan_status != 'Fully Paid']\n",
    "retrainingdataset = retrainingdataset[retrainingdataset.loan_status != 'Late (31-120 days)']\n",
    "\n",
    "# Remove all data with \"Current\" and \"Late 16-30 days\" as loan status\n",
    "rawdataset = rawdataset[rawdataset.loan_status != 'Current']\n",
    "rawdataset = rawdataset[rawdataset.loan_status != 'Late (16-30 days)']\n",
    "\n"
   ]
  },
  {
   "cell_type": "code",
   "execution_count": null,
   "metadata": {
    "collapsed": true
   },
   "outputs": [],
   "source": [
    "# Define Target Variable\n",
    "# Fully paid or Current means 0 Rest categories as 1 (Default)\n",
    "columnsTarget = ['loan_status']\n",
    "subset_Target = pd.DataFrame(rawdataset,columns=columnsTarget)\n",
    "\n",
    "label_encoder   = LabelEncoder()\n",
    "integer_encoded = label_encoder.fit_transform(subset_Target)\n",
    "\n",
    "for k in range(0,max(integer_encoded)+1):\n",
    "    print(\"Interger Encoded:\", k, label_encoder.inverse_transform(k))\n",
    "\n",
    "TargetVar = []\n",
    "for k in range(0,len(integer_encoded)):\n",
    "    tempvar = 1\n",
    "    if integer_encoded[k] == 2 :   # Fully Paid\n",
    "        tempvar = 0\n",
    "    TargetVar.append(tempvar)"
   ]
  },
  {
   "cell_type": "code",
   "execution_count": null,
   "metadata": {
    "collapsed": true
   },
   "outputs": [],
   "source": [
    "# Create sub-frame organized data\n",
    "\n",
    "# Character Catergory subset\n",
    "columnscharacter = ['delinq_2yrs','inq_last_6mths','open_acc','revol_bal','revol_util', 'tot_cur_bal']   \n",
    "# Conditions Cateory subset\n",
    "columnscond       = ['loan_amnt','int_rate','grade','term','purpose']\n",
    "# capacity Cateory subset\n",
    "columnscapactity  = ['emp_length','annual_inc_merged','dti_merged']\n",
    "# Collateral Category subset\n",
    "columnscollateral = ['home_ownership']\n",
    "\n",
    "# New Variables Unsorted\n",
    "newvars = ['collections_12_mths_ex_med','earliest_cr_line_elapseddays']  \n",
    "\n",
    "columns_sub = columnscharacter\n",
    "columns_sub.extend(columnscapactity)\n",
    "columns_sub.extend(columnscollateral)\n",
    "columns_sub.extend(columnscond)\n",
    "\n",
    "columns_sub.extend(newvars)\n",
    "\n",
    "subsetdf    = pd.DataFrame(rawdataset,columns=columns_sub)\n",
    "\n",
    "print(subsetdf.dtypes)\n",
    "\n",
    "# Fill Null Values with Mean\n",
    "for col in subsetdf.columns:\n",
    "    if subsetdf[col].dtype == np.float64 or subsetdf[col].dtype == np.int64 :\n",
    "        if subsetdf[col].isnull().sum(axis=0) > 0 :\n",
    "            meanval = subsetdf[col].mean()\n",
    "            subsetdf[col] = subsetdf[col].fillna(meanval,inplace=False)\n",
    "\n",
    "# Replace Home Ownership into Collateral Possible \n",
    "subsetdf['home_ownership'].replace(to_replace='OWN', value='COLLPOSSIBLE', regex=True, inplace=True)\n",
    "subsetdf['home_ownership'].replace(to_replace='MORTGAGE', value='COLLPOSSIBLE', regex=True, inplace=True)\n",
    "subsetdf['home_ownership'].replace(to_replace='RENT', value='COLLNOTPOSSIBLE', regex=True, inplace=True)\n",
    "subsetdf['home_ownership'].replace(to_replace='OTHER', value='COLLNOTPOSSIBLE', regex=True, inplace=True)\n",
    "subsetdf['home_ownership'].replace(to_replace='NONE', value='COLLNOTPOSSIBLE', regex=True, inplace=True)\n",
    "\n",
    "\n",
    "# Encode all Catrgorical Variables\n",
    "subsetdf = pd.get_dummies(subsetdf,columns=['home_ownership'])\n",
    "subsetdf = pd.get_dummies(subsetdf,columns=['term'])\n",
    "subsetdf = pd.get_dummies(subsetdf,columns=['grade'])\n",
    "subsetdf = pd.get_dummies(subsetdf,columns=['purpose'])\n",
    "\n",
    "# Create Normalized data frame\n",
    "subsetdf_Normalized = subsetdf\n",
    "\n",
    "# Add Target Variable\n",
    "target_series = pd.Series(TargetVar)\n",
    "target_series.index = subsetdf.index\n",
    "\n",
    "\n",
    "# Normalize Dataset (Mean and std)\n",
    "for col in subsetdf_Normalized:\n",
    "    if subsetdf_Normalized[col].dtype == np.float64 or subsetdf_Normalized[col].dtype == np.int64 :\n",
    "        meanval = np.mean(subsetdf_Normalized[col])\n",
    "        stdval  = np.std(subsetdf_Normalized[col])  \n",
    "        subsetdf_Normalized[col] = (subsetdf_Normalized[col] - meanval)/stdval\n",
    "\n",
    "# Add Target Variable\n",
    "target_series = pd.Series(TargetVar)\n",
    "target_series.index = subsetdf_Normalized.index\n",
    "subsetdf_Normalized['TARGET'] = target_series"
   ]
  },
  {
   "cell_type": "code",
   "execution_count": null,
   "metadata": {
    "collapsed": true
   },
   "outputs": [],
   "source": [
    "# prep data for adding back to retraining (from Current and Late 16-31 days)\n",
    "subsetretrain    = pd.DataFrame(retrainingdataset,columns=columns_sub)\n",
    "\n",
    "# Fill Null Values with Mean\n",
    "for col in subsetretrain.columns:\n",
    "    if subsetretrain[col].dtype == np.float64 or subsetretrain[col].dtype == np.int64 :\n",
    "        if subsetretrain[col].isnull().sum(axis=0) > 0 :\n",
    "            meanval = subsetretrain[col].mean()\n",
    "            subsetretrain[col] = subsetretrain[col].fillna(meanval,inplace=False)\n",
    "\n",
    "# Replace Home Ownership into Collateral Possible \n",
    "subsetretrain['home_ownership'].replace(to_replace='OWN', value='COLLPOSSIBLE', regex=True, inplace=True)\n",
    "subsetretrain['home_ownership'].replace(to_replace='MORTGAGE', value='COLLPOSSIBLE', regex=True, inplace=True)\n",
    "subsetretrain['home_ownership'].replace(to_replace='RENT', value='COLLNOTPOSSIBLE', regex=True, inplace=True)\n",
    "subsetretrain['home_ownership'].replace(to_replace='OTHER', value='COLLNOTPOSSIBLE', regex=True, inplace=True)\n",
    "subsetretrain['home_ownership'].replace(to_replace='NONE', value='COLLNOTPOSSIBLE', regex=True, inplace=True)\n",
    "            \n",
    "# Encode all Catrgorical Variables\n",
    "subsetretrain = pd.get_dummies(subsetretrain,columns=['home_ownership'])\n",
    "subsetretrain = pd.get_dummies(subsetretrain,columns=['term'])\n",
    "subsetretrain = pd.get_dummies(subsetretrain,columns=['grade'])\n",
    "subsetretrain = pd.get_dummies(subsetretrain,columns=['purpose'])\n",
    "\n",
    "# Create Normalized data frame\n",
    "subsetretrain_Normalized = subsetretrain\n",
    "\n",
    "# Convert dates to Months elapsed\n",
    "# subsetretrain_Normalized['earliest_cr_line_int'] =  (subsetretrain_Normalized['earliest_cr_line_int'] - 43466)/365\n",
    "\n",
    "# Normalize Dataset (Mean and std)\n",
    "for col in subsetretrain_Normalized:\n",
    "    if subsetretrain_Normalized[col].dtype == np.float64 or subsetretrain_Normalized[col].dtype == np.int64 :\n",
    "        meanval = np.mean(subsetretrain_Normalized[col])\n",
    "        stdval  = np.std(subsetretrain_Normalized[col])  \n",
    "        subsetretrain_Normalized[col] = (subsetretrain_Normalized[col] - meanval)/stdval\n",
    "        \n",
    "# Iterate each column of Numerical data and Find Number of Null Values in \n",
    "totalcols = len(subsetretrain_Normalized)\n",
    "for col in subsetretrain_Normalized.columns:\n",
    "    percentageempty = subsetretrain_Normalized[col].isnull().sum(axis=0) / totalcols\n",
    "    print (col,subsetretrain_Normalized[col].isnull().sum(axis=0),percentageempty)"
   ]
  },
  {
   "cell_type": "code",
   "execution_count": null,
   "metadata": {
    "collapsed": true
   },
   "outputs": [],
   "source": [
    "# Handle imbalanced data\n",
    "subsetdf_Target0 = subsetdf_Normalized[subsetdf_Normalized.TARGET == 0]\n",
    "subsetdf_Target1 = subsetdf_Normalized[subsetdf_Normalized.TARGET == 1]\n",
    "\n",
    "itemstodrop = (len(subsetdf_Normalized.TARGET)) - np.sum(subsetdf_Normalized.TARGET)\n",
    "\n",
    "itemstodrop = int(itemstodrop/2)\n",
    "\n",
    "#print(len(subsetdf_Normalized.TARGET))\n",
    "#print(itemstodrop)\n",
    "#print(len(subsetdf_Target0))\n",
    "\n",
    "indextodrop = np.random.permutation(itemstodrop)\n",
    "subsetdf_Target0 = subsetdf_Target0.drop(subsetdf_Target0.index[indextodrop],axis='rows')\n",
    "\n",
    "\n",
    "frames = [subsetdf_Target0, subsetdf_Target1]\n",
    "subsetdf_Normalized2 = pd.concat(frames)\n",
    "\n"
   ]
  },
  {
   "cell_type": "code",
   "execution_count": null,
   "metadata": {
    "collapsed": true
   },
   "outputs": [],
   "source": [
    "# Drop Target Variavle from input parameter   \n",
    "y = subsetdf_Normalized2['TARGET'].values     # Output Target\n",
    "subsetdf_Normalized2 = subsetdf_Normalized2.drop(['TARGET'],axis=1)\n",
    "train_x, test_x,train_y, test_y = train_test_split(subsetdf_Normalized2,y,test_size = 0.2, random_state  = 42)\n",
    "\n",
    "print(len(train_x))\n",
    "print(len(test_x))"
   ]
  },
  {
   "cell_type": "code",
   "execution_count": 7,
   "metadata": {
    "collapsed": false
   },
   "outputs": [
    {
     "data": {
      "text/plain": [
       "([mean: 0.72888, std: 0.00311, params: {'n_estimators': 80},\n",
       "  mean: 0.72847, std: 0.00344, params: {'n_estimators': 90},\n",
       "  mean: 0.72930, std: 0.00394, params: {'n_estimators': 100},\n",
       "  mean: 0.72957, std: 0.00437, params: {'n_estimators': 110},\n",
       "  mean: 0.73011, std: 0.00369, params: {'n_estimators': 120},\n",
       "  mean: 0.72964, std: 0.00435, params: {'n_estimators': 130},\n",
       "  mean: 0.72935, std: 0.00446, params: {'n_estimators': 140},\n",
       "  mean: 0.72930, std: 0.00454, params: {'n_estimators': 150},\n",
       "  mean: 0.72884, std: 0.00408, params: {'n_estimators': 160},\n",
       "  mean: 0.72882, std: 0.00405, params: {'n_estimators': 170},\n",
       "  mean: 0.72867, std: 0.00407, params: {'n_estimators': 180},\n",
       "  mean: 0.72832, std: 0.00426, params: {'n_estimators': 190}],\n",
       " {'n_estimators': 120},\n",
       " 0.7301138443743185)"
      ]
     },
     "execution_count": 7,
     "metadata": {},
     "output_type": "execute_result"
    }
   ],
   "source": [
    "from sklearn.ensemble import GradientBoostingClassifier\n",
    "\n",
    "param_test1 = {'n_estimators':list(range(80,200,10))}\n",
    "gsearch1 = GridSearchCV(estimator = GradientBoostingClassifier(learning_rate=0.5, min_samples_split=500,min_samples_leaf=50,max_depth=8,max_features='sqrt',subsample=0.8,random_state=10), \n",
    "param_grid = param_test1, scoring='roc_auc',n_jobs=4,iid=False, cv=5)\n",
    "gsearch1.fit(train_x,train_y)\n",
    "\n",
    "gsearch1.grid_scores_, gsearch1.best_params_, gsearch1.best_score_"
   ]
  },
  {
   "cell_type": "code",
   "execution_count": 8,
   "metadata": {
    "collapsed": false
   },
   "outputs": [
    {
     "data": {
      "text/plain": [
       "([mean: 0.73405, std: 0.00303, params: {'max_depth': 5, 'min_samples_split': 200},\n",
       "  mean: 0.73417, std: 0.00231, params: {'max_depth': 5, 'min_samples_split': 400},\n",
       "  mean: 0.73414, std: 0.00231, params: {'max_depth': 5, 'min_samples_split': 600},\n",
       "  mean: 0.73412, std: 0.00323, params: {'max_depth': 5, 'min_samples_split': 800},\n",
       "  mean: 0.73416, std: 0.00316, params: {'max_depth': 5, 'min_samples_split': 1000},\n",
       "  mean: 0.73875, std: 0.00261, params: {'max_depth': 7, 'min_samples_split': 200},\n",
       "  mean: 0.74046, std: 0.00388, params: {'max_depth': 7, 'min_samples_split': 400},\n",
       "  mean: 0.74073, std: 0.00360, params: {'max_depth': 7, 'min_samples_split': 600},\n",
       "  mean: 0.73979, std: 0.00266, params: {'max_depth': 7, 'min_samples_split': 800},\n",
       "  mean: 0.73920, std: 0.00239, params: {'max_depth': 7, 'min_samples_split': 1000},\n",
       "  mean: 0.73978, std: 0.00403, params: {'max_depth': 9, 'min_samples_split': 200},\n",
       "  mean: 0.74161, std: 0.00291, params: {'max_depth': 9, 'min_samples_split': 400},\n",
       "  mean: 0.74161, std: 0.00255, params: {'max_depth': 9, 'min_samples_split': 600},\n",
       "  mean: 0.74368, std: 0.00277, params: {'max_depth': 9, 'min_samples_split': 800},\n",
       "  mean: 0.74296, std: 0.00290, params: {'max_depth': 9, 'min_samples_split': 1000},\n",
       "  mean: 0.73838, std: 0.00289, params: {'max_depth': 11, 'min_samples_split': 200},\n",
       "  mean: 0.74245, std: 0.00309, params: {'max_depth': 11, 'min_samples_split': 400},\n",
       "  mean: 0.74293, std: 0.00305, params: {'max_depth': 11, 'min_samples_split': 600},\n",
       "  mean: 0.74289, std: 0.00194, params: {'max_depth': 11, 'min_samples_split': 800},\n",
       "  mean: 0.74312, std: 0.00320, params: {'max_depth': 11, 'min_samples_split': 1000},\n",
       "  mean: 0.73570, std: 0.00220, params: {'max_depth': 13, 'min_samples_split': 200},\n",
       "  mean: 0.73957, std: 0.00337, params: {'max_depth': 13, 'min_samples_split': 400},\n",
       "  mean: 0.74109, std: 0.00319, params: {'max_depth': 13, 'min_samples_split': 600},\n",
       "  mean: 0.74230, std: 0.00175, params: {'max_depth': 13, 'min_samples_split': 800},\n",
       "  mean: 0.74310, std: 0.00358, params: {'max_depth': 13, 'min_samples_split': 1000},\n",
       "  mean: 0.73254, std: 0.00283, params: {'max_depth': 15, 'min_samples_split': 200},\n",
       "  mean: 0.73602, std: 0.00321, params: {'max_depth': 15, 'min_samples_split': 400},\n",
       "  mean: 0.73972, std: 0.00372, params: {'max_depth': 15, 'min_samples_split': 600},\n",
       "  mean: 0.74166, std: 0.00324, params: {'max_depth': 15, 'min_samples_split': 800},\n",
       "  mean: 0.74229, std: 0.00215, params: {'max_depth': 15, 'min_samples_split': 1000}],\n",
       " {'max_depth': 9, 'min_samples_split': 800},\n",
       " 0.7436788084862662)"
      ]
     },
     "execution_count": 8,
     "metadata": {},
     "output_type": "execute_result"
    }
   ],
   "source": [
    "param_test2 = {'max_depth':list(range(5,16,2)), 'min_samples_split':list(range(200,1001,200))}\n",
    "gsearch2 = GridSearchCV(estimator = GradientBoostingClassifier(learning_rate=0.2, n_estimators=120, max_features='sqrt', subsample=0.8, random_state=10), \n",
    "param_grid = param_test2, scoring='roc_auc',n_jobs=4,iid=False, cv=5)\n",
    "gsearch2.fit(train_x,train_y)\n",
    "gsearch2.grid_scores_, gsearch2.best_params_, gsearch2.best_score_"
   ]
  },
  {
   "cell_type": "code",
   "execution_count": 9,
   "metadata": {
    "collapsed": false
   },
   "outputs": [
    {
     "data": {
      "text/plain": [
       "([mean: 0.74154, std: 0.00210, params: {'min_samples_leaf': 30, 'min_samples_split': 800},\n",
       "  mean: 0.74162, std: 0.00318, params: {'min_samples_leaf': 30, 'min_samples_split': 1000},\n",
       "  mean: 0.74213, std: 0.00230, params: {'min_samples_leaf': 30, 'min_samples_split': 1200},\n",
       "  mean: 0.74189, std: 0.00327, params: {'min_samples_leaf': 30, 'min_samples_split': 1400},\n",
       "  mean: 0.74196, std: 0.00256, params: {'min_samples_leaf': 30, 'min_samples_split': 1600},\n",
       "  mean: 0.74239, std: 0.00242, params: {'min_samples_leaf': 30, 'min_samples_split': 1800},\n",
       "  mean: 0.74139, std: 0.00195, params: {'min_samples_leaf': 40, 'min_samples_split': 800},\n",
       "  mean: 0.74029, std: 0.00207, params: {'min_samples_leaf': 40, 'min_samples_split': 1000},\n",
       "  mean: 0.74066, std: 0.00335, params: {'min_samples_leaf': 40, 'min_samples_split': 1200},\n",
       "  mean: 0.74091, std: 0.00301, params: {'min_samples_leaf': 40, 'min_samples_split': 1400},\n",
       "  mean: 0.74006, std: 0.00372, params: {'min_samples_leaf': 40, 'min_samples_split': 1600},\n",
       "  mean: 0.74048, std: 0.00264, params: {'min_samples_leaf': 40, 'min_samples_split': 1800},\n",
       "  mean: 0.73997, std: 0.00291, params: {'min_samples_leaf': 50, 'min_samples_split': 800},\n",
       "  mean: 0.74003, std: 0.00266, params: {'min_samples_leaf': 50, 'min_samples_split': 1000},\n",
       "  mean: 0.73932, std: 0.00209, params: {'min_samples_leaf': 50, 'min_samples_split': 1200},\n",
       "  mean: 0.73926, std: 0.00297, params: {'min_samples_leaf': 50, 'min_samples_split': 1400},\n",
       "  mean: 0.73990, std: 0.00357, params: {'min_samples_leaf': 50, 'min_samples_split': 1600},\n",
       "  mean: 0.74030, std: 0.00242, params: {'min_samples_leaf': 50, 'min_samples_split': 1800},\n",
       "  mean: 0.73832, std: 0.00323, params: {'min_samples_leaf': 60, 'min_samples_split': 800},\n",
       "  mean: 0.73931, std: 0.00298, params: {'min_samples_leaf': 60, 'min_samples_split': 1000},\n",
       "  mean: 0.73991, std: 0.00194, params: {'min_samples_leaf': 60, 'min_samples_split': 1200},\n",
       "  mean: 0.73877, std: 0.00307, params: {'min_samples_leaf': 60, 'min_samples_split': 1400},\n",
       "  mean: 0.73916, std: 0.00370, params: {'min_samples_leaf': 60, 'min_samples_split': 1600},\n",
       "  mean: 0.73920, std: 0.00363, params: {'min_samples_leaf': 60, 'min_samples_split': 1800},\n",
       "  mean: 0.73905, std: 0.00268, params: {'min_samples_leaf': 70, 'min_samples_split': 800},\n",
       "  mean: 0.74067, std: 0.00191, params: {'min_samples_leaf': 70, 'min_samples_split': 1000},\n",
       "  mean: 0.74030, std: 0.00266, params: {'min_samples_leaf': 70, 'min_samples_split': 1200},\n",
       "  mean: 0.73988, std: 0.00269, params: {'min_samples_leaf': 70, 'min_samples_split': 1400},\n",
       "  mean: 0.73963, std: 0.00300, params: {'min_samples_leaf': 70, 'min_samples_split': 1600},\n",
       "  mean: 0.73976, std: 0.00216, params: {'min_samples_leaf': 70, 'min_samples_split': 1800}],\n",
       " {'min_samples_leaf': 30, 'min_samples_split': 1800},\n",
       " 0.7423906516241902)"
      ]
     },
     "execution_count": 9,
     "metadata": {},
     "output_type": "execute_result"
    }
   ],
   "source": [
    "param_test3 = {'min_samples_split':list(range(800,2000,200)), 'min_samples_leaf':list(range(30,71,10))}\n",
    "gsearch3 = GridSearchCV(estimator = GradientBoostingClassifier(learning_rate=0.2, n_estimators=120,max_depth=9,max_features='sqrt', subsample=0.8, random_state=10), \n",
    "param_grid = param_test3, scoring='roc_auc',n_jobs=4,iid=False, cv=5)\n",
    "gsearch3.fit(train_x,train_y)\n",
    "gsearch3.grid_scores_, gsearch3.best_params_, gsearch3.best_score_"
   ]
  },
  {
   "cell_type": "code",
   "execution_count": 14,
   "metadata": {
    "collapsed": false
   },
   "outputs": [
    {
     "data": {
      "text/plain": [
       "([mean: 0.74844, std: 0.00255, params: {'max_features': 11},\n",
       "  mean: 0.75184, std: 0.00276, params: {'max_features': 13},\n",
       "  mean: 0.75251, std: 0.00173, params: {'max_features': 15},\n",
       "  mean: 0.75225, std: 0.00236, params: {'max_features': 17},\n",
       "  mean: 0.75460, std: 0.00257, params: {'max_features': 19},\n",
       "  mean: 0.75621, std: 0.00199, params: {'max_features': 21},\n",
       "  mean: 0.75553, std: 0.00248, params: {'max_features': 23},\n",
       "  mean: 0.75685, std: 0.00247, params: {'max_features': 25},\n",
       "  mean: 0.75692, std: 0.00242, params: {'max_features': 27},\n",
       "  mean: 0.75747, std: 0.00246, params: {'max_features': 29},\n",
       "  mean: 0.75692, std: 0.00260, params: {'max_features': 31},\n",
       "  mean: 0.75935, std: 0.00169, params: {'max_features': 33}],\n",
       " {'max_features': 33},\n",
       " 0.7593539362753005)"
      ]
     },
     "execution_count": 14,
     "metadata": {},
     "output_type": "execute_result"
    }
   ],
   "source": [
    "param_test4 = {'max_features':list(range(11,35,2))}\n",
    "gsearch4 = GridSearchCV(estimator = GradientBoostingClassifier(learning_rate=0.2, n_estimators=120,max_depth=9, min_samples_split=1800, min_samples_leaf=30, subsample=0.8, random_state=10),\n",
    "param_grid = param_test4, scoring='roc_auc',n_jobs=4,iid=False, cv=5)\n",
    "gsearch4.fit(train_x,train_y)\n",
    "gsearch4.grid_scores_, gsearch4.best_params_, gsearch4.best_score_"
   ]
  },
  {
   "cell_type": "code",
   "execution_count": 15,
   "metadata": {
    "collapsed": false
   },
   "outputs": [
    {
     "data": {
      "text/plain": [
       "([mean: 0.75542, std: 0.00325, params: {'subsample': 0.6},\n",
       "  mean: 0.75697, std: 0.00315, params: {'subsample': 0.7},\n",
       "  mean: 0.75768, std: 0.00301, params: {'subsample': 0.75},\n",
       "  mean: 0.75935, std: 0.00169, params: {'subsample': 0.8},\n",
       "  mean: 0.75864, std: 0.00198, params: {'subsample': 0.85},\n",
       "  mean: 0.75928, std: 0.00193, params: {'subsample': 0.9}],\n",
       " {'subsample': 0.8},\n",
       " 0.7593539362753005)"
      ]
     },
     "execution_count": 15,
     "metadata": {},
     "output_type": "execute_result"
    }
   ],
   "source": [
    "param_test5 = {'subsample':[0.6,0.7,0.75,0.8,0.85,0.9]}\n",
    "gsearch5 = GridSearchCV(estimator = GradientBoostingClassifier(learning_rate=0.2, n_estimators=120,max_depth=9,min_samples_split=1800, min_samples_leaf=30, subsample=0.8, random_state=10,max_features=33),\n",
    "param_grid = param_test5, scoring='roc_auc',n_jobs=4,iid=False, cv=5)\n",
    "gsearch5.fit(train_x,train_y)\n",
    "gsearch5.grid_scores_, gsearch5.best_params_, gsearch5.best_score_"
   ]
  },
  {
   "cell_type": "code",
   "execution_count": 16,
   "metadata": {
    "collapsed": false
   },
   "outputs": [
    {
     "name": "stdout",
     "output_type": "stream",
     "text": [
      "['delinq_2yrs', 'inq_last_6mths', 'total_acc', 'open_acc', 'revol_bal', 'revol_util', 'emp_length', 'annual_inc_merg', 'dti_merged', 'loan_amnt', 'int_rate', 'collections_12_', 'earliest_cr_lin', 'home_ownership_', 'home_ownership_', 'home_ownership_', 'home_ownership_', 'home_ownership_', 'term_ 36 months', 'term_ 60 months', 'grade_A', 'grade_B', 'grade_C', 'grade_D', 'grade_E', 'grade_F', 'grade_G', 'purpose_car', 'purpose_credit_', 'purpose_debt_co', 'purpose_educati', 'purpose_home_im', 'purpose_house', 'purpose_major_p', 'purpose_medical', 'purpose_moving', 'purpose_other', 'purpose_renewab', 'purpose_small_b', 'purpose_vacatio', 'purpose_wedding']\n"
     ]
    }
   ],
   "source": [
    "UnsortedNames = []\n",
    "for col in train_x.columns:\n",
    "    UnsortedNames.append(col[0:15])\n",
    "print(UnsortedNames)\n",
    "#gbm0 = GradientBoostingClassifier(random_state=10)\n",
    "#modelfit(gbm0, train_x1,train_y1, UnsortedNames, performCV=True, printFeatureImportance=True, cv_folds=5)"
   ]
  },
  {
   "cell_type": "code",
   "execution_count": 17,
   "metadata": {
    "collapsed": false
   },
   "outputs": [
    {
     "name": "stdout",
     "output_type": "stream",
     "text": [
      "\n",
      "Model Report\n",
      "Accuracy : 0.7346\n",
      "AUC Score (Train): 0.776844\n"
     ]
    },
    {
     "data": {
      "image/png": "[encoded data removed]",
      "text/plain": [
       "<matplotlib.figure.Figure at 0xcdaea20>"
      ]
     },
     "metadata": {},
     "output_type": "display_data"
    }
   ],
   "source": [
    "gbm_tuned_4 = GradientBoostingClassifier(learning_rate=0.005, n_estimators=1200,max_depth=9, min_samples_split=1800, min_samples_leaf=30, subsample=0.9, random_state=10, max_features=33,\n",
    "warm_start=True)\n",
    "\n",
    "\n",
    "\n",
    "\n",
    "modelfit(gbm_tuned_4, train_x, train_y, UnsortedNames, performCV=False)"
   ]
  },
  {
   "cell_type": "code",
   "execution_count": 5,
   "metadata": {
    "collapsed": false
   },
   "outputs": [],
   "source": [
    "gbm_tuned_4 = GradientBoostingClassifier(learning_rate=0.005, n_estimators=1200,max_depth=9, min_samples_split=1800, min_samples_leaf=30, subsample=0.9, random_state=10, max_features=33,\n",
    "warm_start=True)\n",
    "\n",
    "\n",
    "gbm_tuned_4.fit(train_x, train_y.ravel())\n",
    "\n",
    "\n",
    "train_preds = gbm_tuned_4.predict(train_x)\n",
    "dev_preds   = gbm_tuned_4.predict(test_x)\n",
    "# rain_predprob = gbm_tuned_4.predict_proba(dtrain)[:,1]\n",
    "\n",
    "# Analyze Tuned Model Performance in Testing and Development Datasets\n",
    "(train_score, dev_score) = (accuracy_score(train_y, train_preds), accuracy_score(test_y, dev_preds))\n",
    "    \n",
    "# Find Recall and Precision Scores  \n",
    "train_score_r = recall_score(train_y, train_preds, pos_label=1, average=\"binary\")\n",
    "train_score_p = precision_score(train_y, train_preds, pos_label=1, average=\"binary\")\n",
    "    \n",
    "dev_score_r = recall_score(test_y, dev_preds, pos_label=1, average=\"binary\")\n",
    "dev_score_p = precision_score(test_y, dev_preds, pos_label=1, average=\"binary\")\n",
    "    \n"
   ]
  },
  {
   "cell_type": "code",
   "execution_count": null,
   "metadata": {
    "collapsed": true
   },
   "outputs": [],
   "source": []
  }
 ],
 "metadata": {
  "kernelspec": {
   "display_name": "Python 3",
   "language": "python",
   "name": "python3"
  },
  "language_info": {
   "codemirror_mode": {
    "name": "ipython",
    "version": 3
   },
   "file_extension": ".py",
   "mimetype": "text/x-python",
   "name": "python",
   "nbconvert_exporter": "python",
   "pygments_lexer": "ipython3",
   "version": "3.6.6"
  }
 },
 "nbformat": 4,
 "nbformat_minor": 2
}
